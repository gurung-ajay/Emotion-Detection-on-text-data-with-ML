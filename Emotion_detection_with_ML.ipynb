{
  "cells": [
    {
      "cell_type": "markdown",
      "metadata": {
        "id": "view-in-github",
        "colab_type": "text"
      },
      "source": [
        "<a href=\"https://colab.research.google.com/github/gurung-ajay/Emotion-Detection-on-text-data-with-ML/blob/main/Emotion_detection_with_ML.ipynb\" target=\"_parent\"><img src=\"https://colab.research.google.com/assets/colab-badge.svg\" alt=\"Open In Colab\"/></a>"
      ]
    },
    {
      "cell_type": "markdown",
      "metadata": {
        "id": "LAGi4lriHiR4"
      },
      "source": [
        "# Emotion Detection on text data"
      ]
    },
    {
      "cell_type": "markdown",
      "metadata": {
        "id": "04J_uqYBIpXx"
      },
      "source": [
        "Using: Pandas, Matplotlib, NLTK and Scikit Learn(for classical Machine Learning) and Tensorflow(for Deep Learning)"
      ]
    },
    {
      "cell_type": "markdown",
      "metadata": {
        "id": "S12FtZ9-T6Mv"
      },
      "source": [
        "Dataset link: https://www.kaggle.com/datasets/praveengovi/emotions-dataset-for-nlp?datasetId=605165&sortBy=voteCount"
      ]
    },
    {
      "cell_type": "markdown",
      "metadata": {
        "id": "-a5-M70jAB2C"
      },
      "source": [
        "This dataset has two columns.\n",
        "* First column consists of text sentences\n",
        "* Second column contains the emotion the sentence is evoking.\n",
        "\n",
        "By training on this data I am building a model that can predict emotions any given input text."
      ]
    },
    {
      "cell_type": "markdown",
      "metadata": {
        "id": "V91qjAUvAmY5"
      },
      "source": [
        "For comparison, I have tried building models using two methods:\n",
        "* Deep Learning\n",
        "* Classical Machine Learning"
      ]
    },
    {
      "cell_type": "markdown",
      "metadata": {
        "id": "EOl1rYRMAy65"
      },
      "source": [
        "Based on this, the project is divided into two sections for modeling."
      ]
    },
    {
      "cell_type": "markdown",
      "metadata": {
        "id": "T842Lxl0NdaA"
      },
      "source": [
        "# Importing Libraries"
      ]
    },
    {
      "cell_type": "code",
      "execution_count": null,
      "metadata": {
        "id": "U36sSykpE1bA"
      },
      "outputs": [],
      "source": [
        "import pandas as pd\n",
        "import tensorflow as tf\n",
        "import matplotlib.pyplot as plt\n",
        "import nltk\n",
        "from nltk.stem import WordNetLemmatizer\n",
        "from sklearn.feature_extraction.text import TfidfVectorizer\n",
        "from sklearn.linear_model import LogisticRegression\n",
        "from sklearn.neighbors import KNeighborsClassifier\n",
        "from sklearn.svm import SVC\n",
        "from sklearn.tree import DecisionTreeClassifier\n",
        "from sklearn.ensemble import RandomForestClassifier\n",
        "from sklearn.naive_bayes import MultinomialNB\n",
        "from sklearn.pipeline import Pipeline\n",
        "from sklearn.metrics import f1_score, accuracy_score"
      ]
    },
    {
      "cell_type": "code",
      "execution_count": null,
      "metadata": {
        "colab": {
          "base_uri": "https://localhost:8080/"
        },
        "id": "y8HtPzwtGJG2",
        "outputId": "c2ec1154-51f6-46a4-f606-1da669b390ab"
      },
      "outputs": [
        {
          "name": "stderr",
          "output_type": "stream",
          "text": [
            "[nltk_data] Downloading package punkt to /root/nltk_data...\n",
            "[nltk_data]   Unzipping tokenizers/punkt.zip.\n",
            "[nltk_data] Downloading package wordnet to /root/nltk_data...\n",
            "[nltk_data] Downloading package stopwords to /root/nltk_data...\n",
            "[nltk_data]   Unzipping corpora/stopwords.zip.\n"
          ]
        },
        {
          "data": {
            "text/plain": [
              "True"
            ]
          },
          "execution_count": 2,
          "metadata": {},
          "output_type": "execute_result"
        }
      ],
      "source": [
        "nltk.download('punkt')\n",
        "nltk.download('wordnet')\n",
        "nltk.download('stopwords')"
      ]
    },
    {
      "cell_type": "code",
      "execution_count": null,
      "metadata": {
        "id": "f164bx7zHgYo"
      },
      "outputs": [],
      "source": [
        "df_train = pd.read_csv('/content/train.txt')\n",
        "df_test = pd.read_csv('/content/test.txt')\n",
        "df_val = pd.read_csv('/content/val.txt')"
      ]
    },
    {
      "cell_type": "code",
      "execution_count": null,
      "metadata": {
        "id": "QIUulzW_JRuI"
      },
      "outputs": [],
      "source": [
        "df_train = df_train.iloc[:, 0].str.split(';', expand = True)\n",
        "df_test = df_test.iloc[:, 0].str.split(';', expand = True)\n",
        "df_val = df_val.iloc[:, 0].str.split(';', expand = True)"
      ]
    },
    {
      "cell_type": "code",
      "execution_count": null,
      "metadata": {
        "id": "tAVJlCrtKuHr"
      },
      "outputs": [],
      "source": [
        "df_train.columns = ['Text', 'Emotion']\n",
        "df_test.columns = ['Text', 'Emotion']\n",
        "df_val.columns = ['Text', 'Emotion']"
      ]
    },
    {
      "cell_type": "code",
      "execution_count": null,
      "metadata": {
        "colab": {
          "base_uri": "https://localhost:8080/",
          "height": 112
        },
        "id": "KdEXPv6MJZBH",
        "outputId": "decbf120-aa71-48ac-e525-5c4e35aaf1d1"
      },
      "outputs": [
        {
          "data": {
            "text/html": [
              "\n",
              "  <div id=\"df-401655d0-4f4a-47b5-9ba3-0a2dcf900481\" class=\"colab-df-container\">\n",
              "    <div>\n",
              "<style scoped>\n",
              "    .dataframe tbody tr th:only-of-type {\n",
              "        vertical-align: middle;\n",
              "    }\n",
              "\n",
              "    .dataframe tbody tr th {\n",
              "        vertical-align: top;\n",
              "    }\n",
              "\n",
              "    .dataframe thead th {\n",
              "        text-align: right;\n",
              "    }\n",
              "</style>\n",
              "<table border=\"1\" class=\"dataframe\">\n",
              "  <thead>\n",
              "    <tr style=\"text-align: right;\">\n",
              "      <th></th>\n",
              "      <th>Text</th>\n",
              "      <th>Emotion</th>\n",
              "    </tr>\n",
              "  </thead>\n",
              "  <tbody>\n",
              "    <tr>\n",
              "      <th>11423</th>\n",
              "      <td>i felt such guilt for being sad for having ang...</td>\n",
              "      <td>joy</td>\n",
              "    </tr>\n",
              "    <tr>\n",
              "      <th>14454</th>\n",
              "      <td>i feel distracted when people think i m overre...</td>\n",
              "      <td>anger</td>\n",
              "    </tr>\n",
              "  </tbody>\n",
              "</table>\n",
              "</div>\n",
              "    <div class=\"colab-df-buttons\">\n",
              "\n",
              "  <div class=\"colab-df-container\">\n",
              "    <button class=\"colab-df-convert\" onclick=\"convertToInteractive('df-401655d0-4f4a-47b5-9ba3-0a2dcf900481')\"\n",
              "            title=\"Convert this dataframe to an interactive table.\"\n",
              "            style=\"display:none;\">\n",
              "\n",
              "  <svg xmlns=\"http://www.w3.org/2000/svg\" height=\"24px\" viewBox=\"0 -960 960 960\">\n",
              "    <path d=\"M120-120v-720h720v720H120Zm60-500h600v-160H180v160Zm220 220h160v-160H400v160Zm0 220h160v-160H400v160ZM180-400h160v-160H180v160Zm440 0h160v-160H620v160ZM180-180h160v-160H180v160Zm440 0h160v-160H620v160Z\"/>\n",
              "  </svg>\n",
              "    </button>\n",
              "\n",
              "  <style>\n",
              "    .colab-df-container {\n",
              "      display:flex;\n",
              "      gap: 12px;\n",
              "    }\n",
              "\n",
              "    .colab-df-convert {\n",
              "      background-color: #E8F0FE;\n",
              "      border: none;\n",
              "      border-radius: 50%;\n",
              "      cursor: pointer;\n",
              "      display: none;\n",
              "      fill: #1967D2;\n",
              "      height: 32px;\n",
              "      padding: 0 0 0 0;\n",
              "      width: 32px;\n",
              "    }\n",
              "\n",
              "    .colab-df-convert:hover {\n",
              "      background-color: #E2EBFA;\n",
              "      box-shadow: 0px 1px 2px rgba(60, 64, 67, 0.3), 0px 1px 3px 1px rgba(60, 64, 67, 0.15);\n",
              "      fill: #174EA6;\n",
              "    }\n",
              "\n",
              "    .colab-df-buttons div {\n",
              "      margin-bottom: 4px;\n",
              "    }\n",
              "\n",
              "    [theme=dark] .colab-df-convert {\n",
              "      background-color: #3B4455;\n",
              "      fill: #D2E3FC;\n",
              "    }\n",
              "\n",
              "    [theme=dark] .colab-df-convert:hover {\n",
              "      background-color: #434B5C;\n",
              "      box-shadow: 0px 1px 3px 1px rgba(0, 0, 0, 0.15);\n",
              "      filter: drop-shadow(0px 1px 2px rgba(0, 0, 0, 0.3));\n",
              "      fill: #FFFFFF;\n",
              "    }\n",
              "  </style>\n",
              "\n",
              "    <script>\n",
              "      const buttonEl =\n",
              "        document.querySelector('#df-401655d0-4f4a-47b5-9ba3-0a2dcf900481 button.colab-df-convert');\n",
              "      buttonEl.style.display =\n",
              "        google.colab.kernel.accessAllowed ? 'block' : 'none';\n",
              "\n",
              "      async function convertToInteractive(key) {\n",
              "        const element = document.querySelector('#df-401655d0-4f4a-47b5-9ba3-0a2dcf900481');\n",
              "        const dataTable =\n",
              "          await google.colab.kernel.invokeFunction('convertToInteractive',\n",
              "                                                    [key], {});\n",
              "        if (!dataTable) return;\n",
              "\n",
              "        const docLinkHtml = 'Like what you see? Visit the ' +\n",
              "          '<a target=\"_blank\" href=https://colab.research.google.com/notebooks/data_table.ipynb>data table notebook</a>'\n",
              "          + ' to learn more about interactive tables.';\n",
              "        element.innerHTML = '';\n",
              "        dataTable['output_type'] = 'display_data';\n",
              "        await google.colab.output.renderOutput(dataTable, element);\n",
              "        const docLink = document.createElement('div');\n",
              "        docLink.innerHTML = docLinkHtml;\n",
              "        element.appendChild(docLink);\n",
              "      }\n",
              "    </script>\n",
              "  </div>\n",
              "\n",
              "\n",
              "<div id=\"df-1a60b5a2-981c-47c2-b27f-f078519a710c\">\n",
              "  <button class=\"colab-df-quickchart\" onclick=\"quickchart('df-1a60b5a2-981c-47c2-b27f-f078519a710c')\"\n",
              "            title=\"Suggest charts.\"\n",
              "            style=\"display:none;\">\n",
              "\n",
              "<svg xmlns=\"http://www.w3.org/2000/svg\" height=\"24px\"viewBox=\"0 0 24 24\"\n",
              "     width=\"24px\">\n",
              "    <g>\n",
              "        <path d=\"M19 3H5c-1.1 0-2 .9-2 2v14c0 1.1.9 2 2 2h14c1.1 0 2-.9 2-2V5c0-1.1-.9-2-2-2zM9 17H7v-7h2v7zm4 0h-2V7h2v10zm4 0h-2v-4h2v4z\"/>\n",
              "    </g>\n",
              "</svg>\n",
              "  </button>\n",
              "\n",
              "<style>\n",
              "  .colab-df-quickchart {\n",
              "      --bg-color: #E8F0FE;\n",
              "      --fill-color: #1967D2;\n",
              "      --hover-bg-color: #E2EBFA;\n",
              "      --hover-fill-color: #174EA6;\n",
              "      --disabled-fill-color: #AAA;\n",
              "      --disabled-bg-color: #DDD;\n",
              "  }\n",
              "\n",
              "  [theme=dark] .colab-df-quickchart {\n",
              "      --bg-color: #3B4455;\n",
              "      --fill-color: #D2E3FC;\n",
              "      --hover-bg-color: #434B5C;\n",
              "      --hover-fill-color: #FFFFFF;\n",
              "      --disabled-bg-color: #3B4455;\n",
              "      --disabled-fill-color: #666;\n",
              "  }\n",
              "\n",
              "  .colab-df-quickchart {\n",
              "    background-color: var(--bg-color);\n",
              "    border: none;\n",
              "    border-radius: 50%;\n",
              "    cursor: pointer;\n",
              "    display: none;\n",
              "    fill: var(--fill-color);\n",
              "    height: 32px;\n",
              "    padding: 0;\n",
              "    width: 32px;\n",
              "  }\n",
              "\n",
              "  .colab-df-quickchart:hover {\n",
              "    background-color: var(--hover-bg-color);\n",
              "    box-shadow: 0 1px 2px rgba(60, 64, 67, 0.3), 0 1px 3px 1px rgba(60, 64, 67, 0.15);\n",
              "    fill: var(--button-hover-fill-color);\n",
              "  }\n",
              "\n",
              "  .colab-df-quickchart-complete:disabled,\n",
              "  .colab-df-quickchart-complete:disabled:hover {\n",
              "    background-color: var(--disabled-bg-color);\n",
              "    fill: var(--disabled-fill-color);\n",
              "    box-shadow: none;\n",
              "  }\n",
              "\n",
              "  .colab-df-spinner {\n",
              "    border: 2px solid var(--fill-color);\n",
              "    border-color: transparent;\n",
              "    border-bottom-color: var(--fill-color);\n",
              "    animation:\n",
              "      spin 1s steps(1) infinite;\n",
              "  }\n",
              "\n",
              "  @keyframes spin {\n",
              "    0% {\n",
              "      border-color: transparent;\n",
              "      border-bottom-color: var(--fill-color);\n",
              "      border-left-color: var(--fill-color);\n",
              "    }\n",
              "    20% {\n",
              "      border-color: transparent;\n",
              "      border-left-color: var(--fill-color);\n",
              "      border-top-color: var(--fill-color);\n",
              "    }\n",
              "    30% {\n",
              "      border-color: transparent;\n",
              "      border-left-color: var(--fill-color);\n",
              "      border-top-color: var(--fill-color);\n",
              "      border-right-color: var(--fill-color);\n",
              "    }\n",
              "    40% {\n",
              "      border-color: transparent;\n",
              "      border-right-color: var(--fill-color);\n",
              "      border-top-color: var(--fill-color);\n",
              "    }\n",
              "    60% {\n",
              "      border-color: transparent;\n",
              "      border-right-color: var(--fill-color);\n",
              "    }\n",
              "    80% {\n",
              "      border-color: transparent;\n",
              "      border-right-color: var(--fill-color);\n",
              "      border-bottom-color: var(--fill-color);\n",
              "    }\n",
              "    90% {\n",
              "      border-color: transparent;\n",
              "      border-bottom-color: var(--fill-color);\n",
              "    }\n",
              "  }\n",
              "</style>\n",
              "\n",
              "  <script>\n",
              "    async function quickchart(key) {\n",
              "      const quickchartButtonEl =\n",
              "        document.querySelector('#' + key + ' button');\n",
              "      quickchartButtonEl.disabled = true;  // To prevent multiple clicks.\n",
              "      quickchartButtonEl.classList.add('colab-df-spinner');\n",
              "      try {\n",
              "        const charts = await google.colab.kernel.invokeFunction(\n",
              "            'suggestCharts', [key], {});\n",
              "      } catch (error) {\n",
              "        console.error('Error during call to suggestCharts:', error);\n",
              "      }\n",
              "      quickchartButtonEl.classList.remove('colab-df-spinner');\n",
              "      quickchartButtonEl.classList.add('colab-df-quickchart-complete');\n",
              "    }\n",
              "    (() => {\n",
              "      let quickchartButtonEl =\n",
              "        document.querySelector('#df-1a60b5a2-981c-47c2-b27f-f078519a710c button');\n",
              "      quickchartButtonEl.style.display =\n",
              "        google.colab.kernel.accessAllowed ? 'block' : 'none';\n",
              "    })();\n",
              "  </script>\n",
              "</div>\n",
              "    </div>\n",
              "  </div>\n"
            ],
            "text/plain": [
              "                                                    Text Emotion\n",
              "11423  i felt such guilt for being sad for having ang...     joy\n",
              "14454  i feel distracted when people think i m overre...   anger"
            ]
          },
          "execution_count": 9,
          "metadata": {},
          "output_type": "execute_result"
        }
      ],
      "source": [
        "df_train.sample(2)"
      ]
    },
    {
      "cell_type": "code",
      "execution_count": null,
      "metadata": {
        "colab": {
          "base_uri": "https://localhost:8080/",
          "height": 112
        },
        "id": "NcuMtWGmKcKl",
        "outputId": "128b3243-811b-4353-9b76-6e2cc5af7ce8"
      },
      "outputs": [
        {
          "data": {
            "text/html": [
              "\n",
              "  <div id=\"df-c9a34b74-c1ab-47d3-975c-d43c3d7b8545\" class=\"colab-df-container\">\n",
              "    <div>\n",
              "<style scoped>\n",
              "    .dataframe tbody tr th:only-of-type {\n",
              "        vertical-align: middle;\n",
              "    }\n",
              "\n",
              "    .dataframe tbody tr th {\n",
              "        vertical-align: top;\n",
              "    }\n",
              "\n",
              "    .dataframe thead th {\n",
              "        text-align: right;\n",
              "    }\n",
              "</style>\n",
              "<table border=\"1\" class=\"dataframe\">\n",
              "  <thead>\n",
              "    <tr style=\"text-align: right;\">\n",
              "      <th></th>\n",
              "      <th>Text</th>\n",
              "      <th>Emotion</th>\n",
              "    </tr>\n",
              "  </thead>\n",
              "  <tbody>\n",
              "    <tr>\n",
              "      <th>1130</th>\n",
              "      <td>i feel terrible when i hurt peoples feelings w...</td>\n",
              "      <td>sadness</td>\n",
              "    </tr>\n",
              "    <tr>\n",
              "      <th>112</th>\n",
              "      <td>i am feeling better though i dont sound it</td>\n",
              "      <td>joy</td>\n",
              "    </tr>\n",
              "  </tbody>\n",
              "</table>\n",
              "</div>\n",
              "    <div class=\"colab-df-buttons\">\n",
              "\n",
              "  <div class=\"colab-df-container\">\n",
              "    <button class=\"colab-df-convert\" onclick=\"convertToInteractive('df-c9a34b74-c1ab-47d3-975c-d43c3d7b8545')\"\n",
              "            title=\"Convert this dataframe to an interactive table.\"\n",
              "            style=\"display:none;\">\n",
              "\n",
              "  <svg xmlns=\"http://www.w3.org/2000/svg\" height=\"24px\" viewBox=\"0 -960 960 960\">\n",
              "    <path d=\"M120-120v-720h720v720H120Zm60-500h600v-160H180v160Zm220 220h160v-160H400v160Zm0 220h160v-160H400v160ZM180-400h160v-160H180v160Zm440 0h160v-160H620v160ZM180-180h160v-160H180v160Zm440 0h160v-160H620v160Z\"/>\n",
              "  </svg>\n",
              "    </button>\n",
              "\n",
              "  <style>\n",
              "    .colab-df-container {\n",
              "      display:flex;\n",
              "      gap: 12px;\n",
              "    }\n",
              "\n",
              "    .colab-df-convert {\n",
              "      background-color: #E8F0FE;\n",
              "      border: none;\n",
              "      border-radius: 50%;\n",
              "      cursor: pointer;\n",
              "      display: none;\n",
              "      fill: #1967D2;\n",
              "      height: 32px;\n",
              "      padding: 0 0 0 0;\n",
              "      width: 32px;\n",
              "    }\n",
              "\n",
              "    .colab-df-convert:hover {\n",
              "      background-color: #E2EBFA;\n",
              "      box-shadow: 0px 1px 2px rgba(60, 64, 67, 0.3), 0px 1px 3px 1px rgba(60, 64, 67, 0.15);\n",
              "      fill: #174EA6;\n",
              "    }\n",
              "\n",
              "    .colab-df-buttons div {\n",
              "      margin-bottom: 4px;\n",
              "    }\n",
              "\n",
              "    [theme=dark] .colab-df-convert {\n",
              "      background-color: #3B4455;\n",
              "      fill: #D2E3FC;\n",
              "    }\n",
              "\n",
              "    [theme=dark] .colab-df-convert:hover {\n",
              "      background-color: #434B5C;\n",
              "      box-shadow: 0px 1px 3px 1px rgba(0, 0, 0, 0.15);\n",
              "      filter: drop-shadow(0px 1px 2px rgba(0, 0, 0, 0.3));\n",
              "      fill: #FFFFFF;\n",
              "    }\n",
              "  </style>\n",
              "\n",
              "    <script>\n",
              "      const buttonEl =\n",
              "        document.querySelector('#df-c9a34b74-c1ab-47d3-975c-d43c3d7b8545 button.colab-df-convert');\n",
              "      buttonEl.style.display =\n",
              "        google.colab.kernel.accessAllowed ? 'block' : 'none';\n",
              "\n",
              "      async function convertToInteractive(key) {\n",
              "        const element = document.querySelector('#df-c9a34b74-c1ab-47d3-975c-d43c3d7b8545');\n",
              "        const dataTable =\n",
              "          await google.colab.kernel.invokeFunction('convertToInteractive',\n",
              "                                                    [key], {});\n",
              "        if (!dataTable) return;\n",
              "\n",
              "        const docLinkHtml = 'Like what you see? Visit the ' +\n",
              "          '<a target=\"_blank\" href=https://colab.research.google.com/notebooks/data_table.ipynb>data table notebook</a>'\n",
              "          + ' to learn more about interactive tables.';\n",
              "        element.innerHTML = '';\n",
              "        dataTable['output_type'] = 'display_data';\n",
              "        await google.colab.output.renderOutput(dataTable, element);\n",
              "        const docLink = document.createElement('div');\n",
              "        docLink.innerHTML = docLinkHtml;\n",
              "        element.appendChild(docLink);\n",
              "      }\n",
              "    </script>\n",
              "  </div>\n",
              "\n",
              "\n",
              "<div id=\"df-5bd61160-40aa-42dd-898c-0f4695404e44\">\n",
              "  <button class=\"colab-df-quickchart\" onclick=\"quickchart('df-5bd61160-40aa-42dd-898c-0f4695404e44')\"\n",
              "            title=\"Suggest charts.\"\n",
              "            style=\"display:none;\">\n",
              "\n",
              "<svg xmlns=\"http://www.w3.org/2000/svg\" height=\"24px\"viewBox=\"0 0 24 24\"\n",
              "     width=\"24px\">\n",
              "    <g>\n",
              "        <path d=\"M19 3H5c-1.1 0-2 .9-2 2v14c0 1.1.9 2 2 2h14c1.1 0 2-.9 2-2V5c0-1.1-.9-2-2-2zM9 17H7v-7h2v7zm4 0h-2V7h2v10zm4 0h-2v-4h2v4z\"/>\n",
              "    </g>\n",
              "</svg>\n",
              "  </button>\n",
              "\n",
              "<style>\n",
              "  .colab-df-quickchart {\n",
              "      --bg-color: #E8F0FE;\n",
              "      --fill-color: #1967D2;\n",
              "      --hover-bg-color: #E2EBFA;\n",
              "      --hover-fill-color: #174EA6;\n",
              "      --disabled-fill-color: #AAA;\n",
              "      --disabled-bg-color: #DDD;\n",
              "  }\n",
              "\n",
              "  [theme=dark] .colab-df-quickchart {\n",
              "      --bg-color: #3B4455;\n",
              "      --fill-color: #D2E3FC;\n",
              "      --hover-bg-color: #434B5C;\n",
              "      --hover-fill-color: #FFFFFF;\n",
              "      --disabled-bg-color: #3B4455;\n",
              "      --disabled-fill-color: #666;\n",
              "  }\n",
              "\n",
              "  .colab-df-quickchart {\n",
              "    background-color: var(--bg-color);\n",
              "    border: none;\n",
              "    border-radius: 50%;\n",
              "    cursor: pointer;\n",
              "    display: none;\n",
              "    fill: var(--fill-color);\n",
              "    height: 32px;\n",
              "    padding: 0;\n",
              "    width: 32px;\n",
              "  }\n",
              "\n",
              "  .colab-df-quickchart:hover {\n",
              "    background-color: var(--hover-bg-color);\n",
              "    box-shadow: 0 1px 2px rgba(60, 64, 67, 0.3), 0 1px 3px 1px rgba(60, 64, 67, 0.15);\n",
              "    fill: var(--button-hover-fill-color);\n",
              "  }\n",
              "\n",
              "  .colab-df-quickchart-complete:disabled,\n",
              "  .colab-df-quickchart-complete:disabled:hover {\n",
              "    background-color: var(--disabled-bg-color);\n",
              "    fill: var(--disabled-fill-color);\n",
              "    box-shadow: none;\n",
              "  }\n",
              "\n",
              "  .colab-df-spinner {\n",
              "    border: 2px solid var(--fill-color);\n",
              "    border-color: transparent;\n",
              "    border-bottom-color: var(--fill-color);\n",
              "    animation:\n",
              "      spin 1s steps(1) infinite;\n",
              "  }\n",
              "\n",
              "  @keyframes spin {\n",
              "    0% {\n",
              "      border-color: transparent;\n",
              "      border-bottom-color: var(--fill-color);\n",
              "      border-left-color: var(--fill-color);\n",
              "    }\n",
              "    20% {\n",
              "      border-color: transparent;\n",
              "      border-left-color: var(--fill-color);\n",
              "      border-top-color: var(--fill-color);\n",
              "    }\n",
              "    30% {\n",
              "      border-color: transparent;\n",
              "      border-left-color: var(--fill-color);\n",
              "      border-top-color: var(--fill-color);\n",
              "      border-right-color: var(--fill-color);\n",
              "    }\n",
              "    40% {\n",
              "      border-color: transparent;\n",
              "      border-right-color: var(--fill-color);\n",
              "      border-top-color: var(--fill-color);\n",
              "    }\n",
              "    60% {\n",
              "      border-color: transparent;\n",
              "      border-right-color: var(--fill-color);\n",
              "    }\n",
              "    80% {\n",
              "      border-color: transparent;\n",
              "      border-right-color: var(--fill-color);\n",
              "      border-bottom-color: var(--fill-color);\n",
              "    }\n",
              "    90% {\n",
              "      border-color: transparent;\n",
              "      border-bottom-color: var(--fill-color);\n",
              "    }\n",
              "  }\n",
              "</style>\n",
              "\n",
              "  <script>\n",
              "    async function quickchart(key) {\n",
              "      const quickchartButtonEl =\n",
              "        document.querySelector('#' + key + ' button');\n",
              "      quickchartButtonEl.disabled = true;  // To prevent multiple clicks.\n",
              "      quickchartButtonEl.classList.add('colab-df-spinner');\n",
              "      try {\n",
              "        const charts = await google.colab.kernel.invokeFunction(\n",
              "            'suggestCharts', [key], {});\n",
              "      } catch (error) {\n",
              "        console.error('Error during call to suggestCharts:', error);\n",
              "      }\n",
              "      quickchartButtonEl.classList.remove('colab-df-spinner');\n",
              "      quickchartButtonEl.classList.add('colab-df-quickchart-complete');\n",
              "    }\n",
              "    (() => {\n",
              "      let quickchartButtonEl =\n",
              "        document.querySelector('#df-5bd61160-40aa-42dd-898c-0f4695404e44 button');\n",
              "      quickchartButtonEl.style.display =\n",
              "        google.colab.kernel.accessAllowed ? 'block' : 'none';\n",
              "    })();\n",
              "  </script>\n",
              "</div>\n",
              "    </div>\n",
              "  </div>\n"
            ],
            "text/plain": [
              "                                                   Text  Emotion\n",
              "1130  i feel terrible when i hurt peoples feelings w...  sadness\n",
              "112          i am feeling better though i dont sound it      joy"
            ]
          },
          "execution_count": 10,
          "metadata": {},
          "output_type": "execute_result"
        }
      ],
      "source": [
        "df_test.sample(2)"
      ]
    },
    {
      "cell_type": "code",
      "execution_count": null,
      "metadata": {
        "colab": {
          "base_uri": "https://localhost:8080/",
          "height": 112
        },
        "id": "RJ_XYn3WLIq_",
        "outputId": "15127ead-e80a-44e3-ecb9-0a1a81be4e0a"
      },
      "outputs": [
        {
          "data": {
            "text/html": [
              "\n",
              "  <div id=\"df-41f82164-471e-4e2d-91e1-d1c4272e580b\" class=\"colab-df-container\">\n",
              "    <div>\n",
              "<style scoped>\n",
              "    .dataframe tbody tr th:only-of-type {\n",
              "        vertical-align: middle;\n",
              "    }\n",
              "\n",
              "    .dataframe tbody tr th {\n",
              "        vertical-align: top;\n",
              "    }\n",
              "\n",
              "    .dataframe thead th {\n",
              "        text-align: right;\n",
              "    }\n",
              "</style>\n",
              "<table border=\"1\" class=\"dataframe\">\n",
              "  <thead>\n",
              "    <tr style=\"text-align: right;\">\n",
              "      <th></th>\n",
              "      <th>Text</th>\n",
              "      <th>Emotion</th>\n",
              "    </tr>\n",
              "  </thead>\n",
              "  <tbody>\n",
              "    <tr>\n",
              "      <th>1915</th>\n",
              "      <td>i stand between the two but did not hold off t...</td>\n",
              "      <td>sadness</td>\n",
              "    </tr>\n",
              "    <tr>\n",
              "      <th>1298</th>\n",
              "      <td>i was literally swishing around in the water f...</td>\n",
              "      <td>sadness</td>\n",
              "    </tr>\n",
              "  </tbody>\n",
              "</table>\n",
              "</div>\n",
              "    <div class=\"colab-df-buttons\">\n",
              "\n",
              "  <div class=\"colab-df-container\">\n",
              "    <button class=\"colab-df-convert\" onclick=\"convertToInteractive('df-41f82164-471e-4e2d-91e1-d1c4272e580b')\"\n",
              "            title=\"Convert this dataframe to an interactive table.\"\n",
              "            style=\"display:none;\">\n",
              "\n",
              "  <svg xmlns=\"http://www.w3.org/2000/svg\" height=\"24px\" viewBox=\"0 -960 960 960\">\n",
              "    <path d=\"M120-120v-720h720v720H120Zm60-500h600v-160H180v160Zm220 220h160v-160H400v160Zm0 220h160v-160H400v160ZM180-400h160v-160H180v160Zm440 0h160v-160H620v160ZM180-180h160v-160H180v160Zm440 0h160v-160H620v160Z\"/>\n",
              "  </svg>\n",
              "    </button>\n",
              "\n",
              "  <style>\n",
              "    .colab-df-container {\n",
              "      display:flex;\n",
              "      gap: 12px;\n",
              "    }\n",
              "\n",
              "    .colab-df-convert {\n",
              "      background-color: #E8F0FE;\n",
              "      border: none;\n",
              "      border-radius: 50%;\n",
              "      cursor: pointer;\n",
              "      display: none;\n",
              "      fill: #1967D2;\n",
              "      height: 32px;\n",
              "      padding: 0 0 0 0;\n",
              "      width: 32px;\n",
              "    }\n",
              "\n",
              "    .colab-df-convert:hover {\n",
              "      background-color: #E2EBFA;\n",
              "      box-shadow: 0px 1px 2px rgba(60, 64, 67, 0.3), 0px 1px 3px 1px rgba(60, 64, 67, 0.15);\n",
              "      fill: #174EA6;\n",
              "    }\n",
              "\n",
              "    .colab-df-buttons div {\n",
              "      margin-bottom: 4px;\n",
              "    }\n",
              "\n",
              "    [theme=dark] .colab-df-convert {\n",
              "      background-color: #3B4455;\n",
              "      fill: #D2E3FC;\n",
              "    }\n",
              "\n",
              "    [theme=dark] .colab-df-convert:hover {\n",
              "      background-color: #434B5C;\n",
              "      box-shadow: 0px 1px 3px 1px rgba(0, 0, 0, 0.15);\n",
              "      filter: drop-shadow(0px 1px 2px rgba(0, 0, 0, 0.3));\n",
              "      fill: #FFFFFF;\n",
              "    }\n",
              "  </style>\n",
              "\n",
              "    <script>\n",
              "      const buttonEl =\n",
              "        document.querySelector('#df-41f82164-471e-4e2d-91e1-d1c4272e580b button.colab-df-convert');\n",
              "      buttonEl.style.display =\n",
              "        google.colab.kernel.accessAllowed ? 'block' : 'none';\n",
              "\n",
              "      async function convertToInteractive(key) {\n",
              "        const element = document.querySelector('#df-41f82164-471e-4e2d-91e1-d1c4272e580b');\n",
              "        const dataTable =\n",
              "          await google.colab.kernel.invokeFunction('convertToInteractive',\n",
              "                                                    [key], {});\n",
              "        if (!dataTable) return;\n",
              "\n",
              "        const docLinkHtml = 'Like what you see? Visit the ' +\n",
              "          '<a target=\"_blank\" href=https://colab.research.google.com/notebooks/data_table.ipynb>data table notebook</a>'\n",
              "          + ' to learn more about interactive tables.';\n",
              "        element.innerHTML = '';\n",
              "        dataTable['output_type'] = 'display_data';\n",
              "        await google.colab.output.renderOutput(dataTable, element);\n",
              "        const docLink = document.createElement('div');\n",
              "        docLink.innerHTML = docLinkHtml;\n",
              "        element.appendChild(docLink);\n",
              "      }\n",
              "    </script>\n",
              "  </div>\n",
              "\n",
              "\n",
              "<div id=\"df-f8b48c35-5566-4f43-84fc-998590ad8b89\">\n",
              "  <button class=\"colab-df-quickchart\" onclick=\"quickchart('df-f8b48c35-5566-4f43-84fc-998590ad8b89')\"\n",
              "            title=\"Suggest charts.\"\n",
              "            style=\"display:none;\">\n",
              "\n",
              "<svg xmlns=\"http://www.w3.org/2000/svg\" height=\"24px\"viewBox=\"0 0 24 24\"\n",
              "     width=\"24px\">\n",
              "    <g>\n",
              "        <path d=\"M19 3H5c-1.1 0-2 .9-2 2v14c0 1.1.9 2 2 2h14c1.1 0 2-.9 2-2V5c0-1.1-.9-2-2-2zM9 17H7v-7h2v7zm4 0h-2V7h2v10zm4 0h-2v-4h2v4z\"/>\n",
              "    </g>\n",
              "</svg>\n",
              "  </button>\n",
              "\n",
              "<style>\n",
              "  .colab-df-quickchart {\n",
              "      --bg-color: #E8F0FE;\n",
              "      --fill-color: #1967D2;\n",
              "      --hover-bg-color: #E2EBFA;\n",
              "      --hover-fill-color: #174EA6;\n",
              "      --disabled-fill-color: #AAA;\n",
              "      --disabled-bg-color: #DDD;\n",
              "  }\n",
              "\n",
              "  [theme=dark] .colab-df-quickchart {\n",
              "      --bg-color: #3B4455;\n",
              "      --fill-color: #D2E3FC;\n",
              "      --hover-bg-color: #434B5C;\n",
              "      --hover-fill-color: #FFFFFF;\n",
              "      --disabled-bg-color: #3B4455;\n",
              "      --disabled-fill-color: #666;\n",
              "  }\n",
              "\n",
              "  .colab-df-quickchart {\n",
              "    background-color: var(--bg-color);\n",
              "    border: none;\n",
              "    border-radius: 50%;\n",
              "    cursor: pointer;\n",
              "    display: none;\n",
              "    fill: var(--fill-color);\n",
              "    height: 32px;\n",
              "    padding: 0;\n",
              "    width: 32px;\n",
              "  }\n",
              "\n",
              "  .colab-df-quickchart:hover {\n",
              "    background-color: var(--hover-bg-color);\n",
              "    box-shadow: 0 1px 2px rgba(60, 64, 67, 0.3), 0 1px 3px 1px rgba(60, 64, 67, 0.15);\n",
              "    fill: var(--button-hover-fill-color);\n",
              "  }\n",
              "\n",
              "  .colab-df-quickchart-complete:disabled,\n",
              "  .colab-df-quickchart-complete:disabled:hover {\n",
              "    background-color: var(--disabled-bg-color);\n",
              "    fill: var(--disabled-fill-color);\n",
              "    box-shadow: none;\n",
              "  }\n",
              "\n",
              "  .colab-df-spinner {\n",
              "    border: 2px solid var(--fill-color);\n",
              "    border-color: transparent;\n",
              "    border-bottom-color: var(--fill-color);\n",
              "    animation:\n",
              "      spin 1s steps(1) infinite;\n",
              "  }\n",
              "\n",
              "  @keyframes spin {\n",
              "    0% {\n",
              "      border-color: transparent;\n",
              "      border-bottom-color: var(--fill-color);\n",
              "      border-left-color: var(--fill-color);\n",
              "    }\n",
              "    20% {\n",
              "      border-color: transparent;\n",
              "      border-left-color: var(--fill-color);\n",
              "      border-top-color: var(--fill-color);\n",
              "    }\n",
              "    30% {\n",
              "      border-color: transparent;\n",
              "      border-left-color: var(--fill-color);\n",
              "      border-top-color: var(--fill-color);\n",
              "      border-right-color: var(--fill-color);\n",
              "    }\n",
              "    40% {\n",
              "      border-color: transparent;\n",
              "      border-right-color: var(--fill-color);\n",
              "      border-top-color: var(--fill-color);\n",
              "    }\n",
              "    60% {\n",
              "      border-color: transparent;\n",
              "      border-right-color: var(--fill-color);\n",
              "    }\n",
              "    80% {\n",
              "      border-color: transparent;\n",
              "      border-right-color: var(--fill-color);\n",
              "      border-bottom-color: var(--fill-color);\n",
              "    }\n",
              "    90% {\n",
              "      border-color: transparent;\n",
              "      border-bottom-color: var(--fill-color);\n",
              "    }\n",
              "  }\n",
              "</style>\n",
              "\n",
              "  <script>\n",
              "    async function quickchart(key) {\n",
              "      const quickchartButtonEl =\n",
              "        document.querySelector('#' + key + ' button');\n",
              "      quickchartButtonEl.disabled = true;  // To prevent multiple clicks.\n",
              "      quickchartButtonEl.classList.add('colab-df-spinner');\n",
              "      try {\n",
              "        const charts = await google.colab.kernel.invokeFunction(\n",
              "            'suggestCharts', [key], {});\n",
              "      } catch (error) {\n",
              "        console.error('Error during call to suggestCharts:', error);\n",
              "      }\n",
              "      quickchartButtonEl.classList.remove('colab-df-spinner');\n",
              "      quickchartButtonEl.classList.add('colab-df-quickchart-complete');\n",
              "    }\n",
              "    (() => {\n",
              "      let quickchartButtonEl =\n",
              "        document.querySelector('#df-f8b48c35-5566-4f43-84fc-998590ad8b89 button');\n",
              "      quickchartButtonEl.style.display =\n",
              "        google.colab.kernel.accessAllowed ? 'block' : 'none';\n",
              "    })();\n",
              "  </script>\n",
              "</div>\n",
              "    </div>\n",
              "  </div>\n"
            ],
            "text/plain": [
              "                                                   Text  Emotion\n",
              "1915  i stand between the two but did not hold off t...  sadness\n",
              "1298  i was literally swishing around in the water f...  sadness"
            ]
          },
          "execution_count": 11,
          "metadata": {},
          "output_type": "execute_result"
        }
      ],
      "source": [
        "df_val.sample(2)"
      ]
    },
    {
      "cell_type": "markdown",
      "metadata": {
        "id": "TT2fZjmmMLzw"
      },
      "source": [
        "# Analyzing Data"
      ]
    },
    {
      "cell_type": "markdown",
      "metadata": {
        "id": "JhJUQwrmDERA"
      },
      "source": [
        "## Checking null values"
      ]
    },
    {
      "cell_type": "code",
      "execution_count": null,
      "metadata": {
        "colab": {
          "base_uri": "https://localhost:8080/"
        },
        "id": "yCY__pGMLL2Z",
        "outputId": "771fd27f-dd04-4bb8-f282-d50fd8e0ea99"
      },
      "outputs": [
        {
          "data": {
            "text/plain": [
              "Text       0\n",
              "Emotion    0\n",
              "dtype: int64"
            ]
          },
          "execution_count": 12,
          "metadata": {},
          "output_type": "execute_result"
        }
      ],
      "source": [
        "df_train.isnull().sum()"
      ]
    },
    {
      "cell_type": "code",
      "execution_count": null,
      "metadata": {
        "colab": {
          "base_uri": "https://localhost:8080/"
        },
        "id": "bpY3SzMjMA3A",
        "outputId": "87ee1ac2-8f09-4042-9942-336a5e80e817"
      },
      "outputs": [
        {
          "data": {
            "text/plain": [
              "Text       0\n",
              "Emotion    0\n",
              "dtype: int64"
            ]
          },
          "execution_count": 13,
          "metadata": {},
          "output_type": "execute_result"
        }
      ],
      "source": [
        "df_test.isnull().sum()"
      ]
    },
    {
      "cell_type": "code",
      "execution_count": null,
      "metadata": {
        "colab": {
          "base_uri": "https://localhost:8080/"
        },
        "id": "14wkl_VtMDBu",
        "outputId": "aab55827-e139-4718-8c91-50f4f935b127"
      },
      "outputs": [
        {
          "data": {
            "text/plain": [
              "Text       0\n",
              "Emotion    0\n",
              "dtype: int64"
            ]
          },
          "execution_count": 14,
          "metadata": {},
          "output_type": "execute_result"
        }
      ],
      "source": [
        "df_val.isnull().sum()"
      ]
    },
    {
      "cell_type": "markdown",
      "metadata": {
        "id": "QF0UKeDbDUNw"
      },
      "source": [
        "## Analyzing texts"
      ]
    },
    {
      "cell_type": "code",
      "execution_count": null,
      "metadata": {
        "colab": {
          "base_uri": "https://localhost:8080/",
          "height": 175
        },
        "id": "_quQK4qJMqTE",
        "outputId": "f285a3a9-5446-4b25-9e72-21dbfac8192f"
      },
      "outputs": [
        {
          "data": {
            "text/html": [
              "\n",
              "  <div id=\"df-fb99908b-4096-45a9-ac1b-92e4aaeaf78e\" class=\"colab-df-container\">\n",
              "    <div>\n",
              "<style scoped>\n",
              "    .dataframe tbody tr th:only-of-type {\n",
              "        vertical-align: middle;\n",
              "    }\n",
              "\n",
              "    .dataframe tbody tr th {\n",
              "        vertical-align: top;\n",
              "    }\n",
              "\n",
              "    .dataframe thead th {\n",
              "        text-align: right;\n",
              "    }\n",
              "</style>\n",
              "<table border=\"1\" class=\"dataframe\">\n",
              "  <thead>\n",
              "    <tr style=\"text-align: right;\">\n",
              "      <th></th>\n",
              "      <th>Text</th>\n",
              "      <th>Emotion</th>\n",
              "    </tr>\n",
              "  </thead>\n",
              "  <tbody>\n",
              "    <tr>\n",
              "      <th>count</th>\n",
              "      <td>15999</td>\n",
              "      <td>15999</td>\n",
              "    </tr>\n",
              "    <tr>\n",
              "      <th>unique</th>\n",
              "      <td>15968</td>\n",
              "      <td>6</td>\n",
              "    </tr>\n",
              "    <tr>\n",
              "      <th>top</th>\n",
              "      <td>i cant escape the tears of sadness and just tr...</td>\n",
              "      <td>joy</td>\n",
              "    </tr>\n",
              "    <tr>\n",
              "      <th>freq</th>\n",
              "      <td>2</td>\n",
              "      <td>5362</td>\n",
              "    </tr>\n",
              "  </tbody>\n",
              "</table>\n",
              "</div>\n",
              "    <div class=\"colab-df-buttons\">\n",
              "\n",
              "  <div class=\"colab-df-container\">\n",
              "    <button class=\"colab-df-convert\" onclick=\"convertToInteractive('df-fb99908b-4096-45a9-ac1b-92e4aaeaf78e')\"\n",
              "            title=\"Convert this dataframe to an interactive table.\"\n",
              "            style=\"display:none;\">\n",
              "\n",
              "  <svg xmlns=\"http://www.w3.org/2000/svg\" height=\"24px\" viewBox=\"0 -960 960 960\">\n",
              "    <path d=\"M120-120v-720h720v720H120Zm60-500h600v-160H180v160Zm220 220h160v-160H400v160Zm0 220h160v-160H400v160ZM180-400h160v-160H180v160Zm440 0h160v-160H620v160ZM180-180h160v-160H180v160Zm440 0h160v-160H620v160Z\"/>\n",
              "  </svg>\n",
              "    </button>\n",
              "\n",
              "  <style>\n",
              "    .colab-df-container {\n",
              "      display:flex;\n",
              "      gap: 12px;\n",
              "    }\n",
              "\n",
              "    .colab-df-convert {\n",
              "      background-color: #E8F0FE;\n",
              "      border: none;\n",
              "      border-radius: 50%;\n",
              "      cursor: pointer;\n",
              "      display: none;\n",
              "      fill: #1967D2;\n",
              "      height: 32px;\n",
              "      padding: 0 0 0 0;\n",
              "      width: 32px;\n",
              "    }\n",
              "\n",
              "    .colab-df-convert:hover {\n",
              "      background-color: #E2EBFA;\n",
              "      box-shadow: 0px 1px 2px rgba(60, 64, 67, 0.3), 0px 1px 3px 1px rgba(60, 64, 67, 0.15);\n",
              "      fill: #174EA6;\n",
              "    }\n",
              "\n",
              "    .colab-df-buttons div {\n",
              "      margin-bottom: 4px;\n",
              "    }\n",
              "\n",
              "    [theme=dark] .colab-df-convert {\n",
              "      background-color: #3B4455;\n",
              "      fill: #D2E3FC;\n",
              "    }\n",
              "\n",
              "    [theme=dark] .colab-df-convert:hover {\n",
              "      background-color: #434B5C;\n",
              "      box-shadow: 0px 1px 3px 1px rgba(0, 0, 0, 0.15);\n",
              "      filter: drop-shadow(0px 1px 2px rgba(0, 0, 0, 0.3));\n",
              "      fill: #FFFFFF;\n",
              "    }\n",
              "  </style>\n",
              "\n",
              "    <script>\n",
              "      const buttonEl =\n",
              "        document.querySelector('#df-fb99908b-4096-45a9-ac1b-92e4aaeaf78e button.colab-df-convert');\n",
              "      buttonEl.style.display =\n",
              "        google.colab.kernel.accessAllowed ? 'block' : 'none';\n",
              "\n",
              "      async function convertToInteractive(key) {\n",
              "        const element = document.querySelector('#df-fb99908b-4096-45a9-ac1b-92e4aaeaf78e');\n",
              "        const dataTable =\n",
              "          await google.colab.kernel.invokeFunction('convertToInteractive',\n",
              "                                                    [key], {});\n",
              "        if (!dataTable) return;\n",
              "\n",
              "        const docLinkHtml = 'Like what you see? Visit the ' +\n",
              "          '<a target=\"_blank\" href=https://colab.research.google.com/notebooks/data_table.ipynb>data table notebook</a>'\n",
              "          + ' to learn more about interactive tables.';\n",
              "        element.innerHTML = '';\n",
              "        dataTable['output_type'] = 'display_data';\n",
              "        await google.colab.output.renderOutput(dataTable, element);\n",
              "        const docLink = document.createElement('div');\n",
              "        docLink.innerHTML = docLinkHtml;\n",
              "        element.appendChild(docLink);\n",
              "      }\n",
              "    </script>\n",
              "  </div>\n",
              "\n",
              "\n",
              "<div id=\"df-eca9d05a-3308-44c5-8d07-e16a091e3603\">\n",
              "  <button class=\"colab-df-quickchart\" onclick=\"quickchart('df-eca9d05a-3308-44c5-8d07-e16a091e3603')\"\n",
              "            title=\"Suggest charts.\"\n",
              "            style=\"display:none;\">\n",
              "\n",
              "<svg xmlns=\"http://www.w3.org/2000/svg\" height=\"24px\"viewBox=\"0 0 24 24\"\n",
              "     width=\"24px\">\n",
              "    <g>\n",
              "        <path d=\"M19 3H5c-1.1 0-2 .9-2 2v14c0 1.1.9 2 2 2h14c1.1 0 2-.9 2-2V5c0-1.1-.9-2-2-2zM9 17H7v-7h2v7zm4 0h-2V7h2v10zm4 0h-2v-4h2v4z\"/>\n",
              "    </g>\n",
              "</svg>\n",
              "  </button>\n",
              "\n",
              "<style>\n",
              "  .colab-df-quickchart {\n",
              "      --bg-color: #E8F0FE;\n",
              "      --fill-color: #1967D2;\n",
              "      --hover-bg-color: #E2EBFA;\n",
              "      --hover-fill-color: #174EA6;\n",
              "      --disabled-fill-color: #AAA;\n",
              "      --disabled-bg-color: #DDD;\n",
              "  }\n",
              "\n",
              "  [theme=dark] .colab-df-quickchart {\n",
              "      --bg-color: #3B4455;\n",
              "      --fill-color: #D2E3FC;\n",
              "      --hover-bg-color: #434B5C;\n",
              "      --hover-fill-color: #FFFFFF;\n",
              "      --disabled-bg-color: #3B4455;\n",
              "      --disabled-fill-color: #666;\n",
              "  }\n",
              "\n",
              "  .colab-df-quickchart {\n",
              "    background-color: var(--bg-color);\n",
              "    border: none;\n",
              "    border-radius: 50%;\n",
              "    cursor: pointer;\n",
              "    display: none;\n",
              "    fill: var(--fill-color);\n",
              "    height: 32px;\n",
              "    padding: 0;\n",
              "    width: 32px;\n",
              "  }\n",
              "\n",
              "  .colab-df-quickchart:hover {\n",
              "    background-color: var(--hover-bg-color);\n",
              "    box-shadow: 0 1px 2px rgba(60, 64, 67, 0.3), 0 1px 3px 1px rgba(60, 64, 67, 0.15);\n",
              "    fill: var(--button-hover-fill-color);\n",
              "  }\n",
              "\n",
              "  .colab-df-quickchart-complete:disabled,\n",
              "  .colab-df-quickchart-complete:disabled:hover {\n",
              "    background-color: var(--disabled-bg-color);\n",
              "    fill: var(--disabled-fill-color);\n",
              "    box-shadow: none;\n",
              "  }\n",
              "\n",
              "  .colab-df-spinner {\n",
              "    border: 2px solid var(--fill-color);\n",
              "    border-color: transparent;\n",
              "    border-bottom-color: var(--fill-color);\n",
              "    animation:\n",
              "      spin 1s steps(1) infinite;\n",
              "  }\n",
              "\n",
              "  @keyframes spin {\n",
              "    0% {\n",
              "      border-color: transparent;\n",
              "      border-bottom-color: var(--fill-color);\n",
              "      border-left-color: var(--fill-color);\n",
              "    }\n",
              "    20% {\n",
              "      border-color: transparent;\n",
              "      border-left-color: var(--fill-color);\n",
              "      border-top-color: var(--fill-color);\n",
              "    }\n",
              "    30% {\n",
              "      border-color: transparent;\n",
              "      border-left-color: var(--fill-color);\n",
              "      border-top-color: var(--fill-color);\n",
              "      border-right-color: var(--fill-color);\n",
              "    }\n",
              "    40% {\n",
              "      border-color: transparent;\n",
              "      border-right-color: var(--fill-color);\n",
              "      border-top-color: var(--fill-color);\n",
              "    }\n",
              "    60% {\n",
              "      border-color: transparent;\n",
              "      border-right-color: var(--fill-color);\n",
              "    }\n",
              "    80% {\n",
              "      border-color: transparent;\n",
              "      border-right-color: var(--fill-color);\n",
              "      border-bottom-color: var(--fill-color);\n",
              "    }\n",
              "    90% {\n",
              "      border-color: transparent;\n",
              "      border-bottom-color: var(--fill-color);\n",
              "    }\n",
              "  }\n",
              "</style>\n",
              "\n",
              "  <script>\n",
              "    async function quickchart(key) {\n",
              "      const quickchartButtonEl =\n",
              "        document.querySelector('#' + key + ' button');\n",
              "      quickchartButtonEl.disabled = true;  // To prevent multiple clicks.\n",
              "      quickchartButtonEl.classList.add('colab-df-spinner');\n",
              "      try {\n",
              "        const charts = await google.colab.kernel.invokeFunction(\n",
              "            'suggestCharts', [key], {});\n",
              "      } catch (error) {\n",
              "        console.error('Error during call to suggestCharts:', error);\n",
              "      }\n",
              "      quickchartButtonEl.classList.remove('colab-df-spinner');\n",
              "      quickchartButtonEl.classList.add('colab-df-quickchart-complete');\n",
              "    }\n",
              "    (() => {\n",
              "      let quickchartButtonEl =\n",
              "        document.querySelector('#df-eca9d05a-3308-44c5-8d07-e16a091e3603 button');\n",
              "      quickchartButtonEl.style.display =\n",
              "        google.colab.kernel.accessAllowed ? 'block' : 'none';\n",
              "    })();\n",
              "  </script>\n",
              "</div>\n",
              "    </div>\n",
              "  </div>\n"
            ],
            "text/plain": [
              "                                                     Text Emotion\n",
              "count                                               15999   15999\n",
              "unique                                              15968       6\n",
              "top     i cant escape the tears of sadness and just tr...     joy\n",
              "freq                                                    2    5362"
            ]
          },
          "execution_count": 18,
          "metadata": {},
          "output_type": "execute_result"
        }
      ],
      "source": [
        "df_train.describe()"
      ]
    },
    {
      "cell_type": "code",
      "execution_count": null,
      "metadata": {
        "colab": {
          "base_uri": "https://localhost:8080/"
        },
        "id": "JcCDNMNZOt2A",
        "outputId": "aeb94749-a438-4909-e684-f6b9b97e6e73"
      },
      "outputs": [
        {
          "data": {
            "text/plain": [
              "15210"
            ]
          },
          "execution_count": 19,
          "metadata": {},
          "output_type": "execute_result"
        }
      ],
      "source": [
        "voc = 0\n",
        "txt = []\n",
        "for i in df_train['Text']:\n",
        "  words = nltk.word_tokenize(i)\n",
        "  for j in words:\n",
        "    if j not in txt:\n",
        "      txt.append(j)\n",
        "\n",
        "len(txt)"
      ]
    },
    {
      "cell_type": "markdown",
      "metadata": {
        "id": "zGex9JZKRuEf"
      },
      "source": [
        "Total unique words are 15210"
      ]
    },
    {
      "cell_type": "code",
      "execution_count": null,
      "metadata": {
        "id": "1yDmr2QMQkYX"
      },
      "outputs": [],
      "source": [
        "length = []\n",
        "for i in df_train['Text']:\n",
        "  words = nltk.word_tokenize(i)\n",
        "  l = len(words)\n",
        "  length.append(l)\n",
        "\n",
        "average = sum(length)/len(length)"
      ]
    },
    {
      "cell_type": "code",
      "execution_count": null,
      "metadata": {
        "colab": {
          "base_uri": "https://localhost:8080/"
        },
        "id": "xRjCGywcRmn5",
        "outputId": "941279e6-71f1-4ae2-a5d5-ceda38603794"
      },
      "outputs": [
        {
          "data": {
            "text/plain": [
              "19.176261016313518"
            ]
          },
          "execution_count": 21,
          "metadata": {},
          "output_type": "execute_result"
        }
      ],
      "source": [
        "average"
      ]
    },
    {
      "cell_type": "code",
      "execution_count": null,
      "metadata": {
        "colab": {
          "base_uri": "https://localhost:8080/"
        },
        "id": "Pq0R3XSKSDYG",
        "outputId": "59595473-6ea9-41a9-dcae-892fb2f0f0e3"
      },
      "outputs": [
        {
          "data": {
            "text/plain": [
              "66"
            ]
          },
          "execution_count": 22,
          "metadata": {},
          "output_type": "execute_result"
        }
      ],
      "source": [
        "max(length)"
      ]
    },
    {
      "cell_type": "markdown",
      "metadata": {
        "id": "r7wHKIxVRyxI"
      },
      "source": [
        "Average length of sentence is 19.18 and longest sentence's length is 66"
      ]
    },
    {
      "cell_type": "markdown",
      "metadata": {
        "id": "ZSGfu7TwDALF"
      },
      "source": [
        "## Unique values (emotions)"
      ]
    },
    {
      "cell_type": "code",
      "execution_count": null,
      "metadata": {
        "colab": {
          "base_uri": "https://localhost:8080/"
        },
        "id": "Z4cJb6Z4ME5i",
        "outputId": "0910fcea-cfbb-4af6-c3ef-5626afab043f"
      },
      "outputs": [
        {
          "data": {
            "text/plain": [
              "array(['sadness', 'anger', 'love', 'surprise', 'fear', 'joy'],\n",
              "      dtype=object)"
            ]
          },
          "execution_count": 15,
          "metadata": {},
          "output_type": "execute_result"
        }
      ],
      "source": [
        "df_train['Emotion'].unique()"
      ]
    },
    {
      "cell_type": "code",
      "execution_count": null,
      "metadata": {
        "colab": {
          "base_uri": "https://localhost:8080/"
        },
        "id": "6cdevVZWMQXz",
        "outputId": "a73b7152-e1a3-4638-e728-908512755453"
      },
      "outputs": [
        {
          "data": {
            "text/plain": [
              "array(['sadness', 'joy', 'fear', 'anger', 'love', 'surprise'],\n",
              "      dtype=object)"
            ]
          },
          "execution_count": 16,
          "metadata": {},
          "output_type": "execute_result"
        }
      ],
      "source": [
        "df_test['Emotion'].unique()"
      ]
    },
    {
      "cell_type": "code",
      "execution_count": null,
      "metadata": {
        "colab": {
          "base_uri": "https://localhost:8080/"
        },
        "id": "jMYjtGz3MYnt",
        "outputId": "51fa45ef-ec3e-4876-bd1a-ab16cfea3bdb"
      },
      "outputs": [
        {
          "data": {
            "text/plain": [
              "array(['sadness', 'love', 'anger', 'joy', 'fear', 'surprise'],\n",
              "      dtype=object)"
            ]
          },
          "execution_count": 17,
          "metadata": {},
          "output_type": "execute_result"
        }
      ],
      "source": [
        "df_val['Emotion'].unique()"
      ]
    },
    {
      "cell_type": "markdown",
      "metadata": {
        "id": "RJ_Z4LnD3x9f"
      },
      "source": [
        "# Mapping variable to be predicted with numbers ranging from 0 length of unique data"
      ]
    },
    {
      "cell_type": "code",
      "execution_count": null,
      "metadata": {
        "colab": {
          "base_uri": "https://localhost:8080/"
        },
        "id": "DEsKdXwNVNjv",
        "outputId": "d327f6c8-8349-4db4-b7c2-a998106b7d79"
      },
      "outputs": [
        {
          "data": {
            "text/plain": [
              "{'sadness': 0, 'anger': 1, 'love': 2, 'surprise': 3, 'fear': 4, 'joy': 5}"
            ]
          },
          "execution_count": 23,
          "metadata": {},
          "output_type": "execute_result"
        }
      ],
      "source": [
        "emotions = df_train['Emotion'].unique()\n",
        "mapper = dict(zip(emotions, range(len(emotions))))\n",
        "mapper"
      ]
    },
    {
      "cell_type": "code",
      "execution_count": null,
      "metadata": {
        "id": "cEpYk9MU5iT6"
      },
      "outputs": [],
      "source": [
        "y_train = df_train['Emotion']\n",
        "y_test = df_test['Emotion']\n",
        "y_val = df_val['Emotion']"
      ]
    },
    {
      "cell_type": "code",
      "execution_count": null,
      "metadata": {
        "id": "83OSMSfgWAu-"
      },
      "outputs": [],
      "source": [
        "y_train = y_train.map(mapper).astype(float)\n",
        "y_test = y_test.map(mapper).astype(float)\n",
        "y_val = y_val.map(mapper).astype(float)"
      ]
    },
    {
      "cell_type": "markdown",
      "metadata": {
        "id": "_7agEs4FCWMe"
      },
      "source": [
        "# Classical Machine Learning models"
      ]
    },
    {
      "cell_type": "markdown",
      "metadata": {
        "id": "Z_v0ibWGL6Qs"
      },
      "source": [
        "## Preprocessing data"
      ]
    },
    {
      "cell_type": "code",
      "execution_count": null,
      "metadata": {
        "id": "P5IoLjrSJNEI"
      },
      "outputs": [],
      "source": [
        "lemmatizer = WordNetLemmatizer()"
      ]
    },
    {
      "cell_type": "code",
      "execution_count": null,
      "metadata": {
        "id": "kVJbjBPDCZWf"
      },
      "outputs": [],
      "source": [
        "def clean_data(x):\n",
        "  x = x.lower()\n",
        "  words = nltk.word_tokenize(x)\n",
        "  stop_words = list(nltk.corpus.stopwords.words('english'))\n",
        "  clean_words = [item for item in words if item not in stop_words]\n",
        "  lemmatized_words = [lemmatizer.lemmatize(w) for w in clean_words]\n",
        "  return ' '.join(lemmatized_words)"
      ]
    },
    {
      "cell_type": "code",
      "execution_count": null,
      "metadata": {
        "id": "yAR7lMfSJWF-"
      },
      "outputs": [],
      "source": [
        "df_train_cleaned = df_train\n",
        "df_test_cleaned = df_test\n",
        "df_val_cleaned = df_val"
      ]
    },
    {
      "cell_type": "code",
      "execution_count": null,
      "metadata": {
        "id": "4l7EmLBuHets"
      },
      "outputs": [],
      "source": [
        "df_train_cleaned['Text'] = df_train_cleaned['Text'].apply(clean_data)\n",
        "df_test_cleaned['Text'] = df_test_cleaned['Text'].apply(clean_data)\n",
        "df_val_cleaned['Text'] = df_val_cleaned['Text'].apply(clean_data)"
      ]
    },
    {
      "cell_type": "code",
      "execution_count": null,
      "metadata": {
        "id": "gaGgjPBlK8LN"
      },
      "outputs": [],
      "source": [
        "ml_X_train = df_train_cleaned['Text']\n",
        "ml_X_test = df_test_cleaned['Text']\n",
        "ml_X_val = df_val_cleaned['Text']"
      ]
    },
    {
      "cell_type": "markdown",
      "metadata": {
        "id": "yk3S6yv9MDgv"
      },
      "source": [
        "## Text vectorization"
      ]
    },
    {
      "cell_type": "markdown",
      "metadata": {
        "id": "CbQEc3g_MHGd"
      },
      "source": [
        "Here I will vectorize data in 'Text' column"
      ]
    },
    {
      "cell_type": "code",
      "execution_count": null,
      "metadata": {
        "id": "v8LR2FgDJHBY"
      },
      "outputs": [],
      "source": [
        "tfidf = TfidfVectorizer()"
      ]
    },
    {
      "cell_type": "code",
      "execution_count": null,
      "metadata": {
        "id": "ezrhphV6LXks"
      },
      "outputs": [],
      "source": [
        "tfidf.fit(ml_X_train)\n",
        "ml_X_train_vectorized = tfidf.transform(ml_X_train)\n",
        "ml_X_test_vectorized = tfidf.transform(ml_X_test)\n",
        "ml_X_val_vectorized = tfidf.transform(ml_X_val)"
      ]
    },
    {
      "cell_type": "markdown",
      "metadata": {
        "id": "zP8r4Pa7PY8e"
      },
      "source": [
        "##Modeling and Evaluation"
      ]
    },
    {
      "cell_type": "code",
      "execution_count": null,
      "metadata": {
        "id": "kRPHYcK-Pvvk"
      },
      "outputs": [],
      "source": [
        "# models to build with pipeline\n",
        "ml_models = [LogisticRegression(max_iter=5000),\n",
        "             KNeighborsClassifier(n_neighbors = 5),\n",
        "             SVC(),\n",
        "             DecisionTreeClassifier(),\n",
        "             RandomForestClassifier(),\n",
        "             MultinomialNB()]"
      ]
    },
    {
      "cell_type": "code",
      "execution_count": null,
      "metadata": {
        "colab": {
          "background_save": true
        },
        "id": "uCd4VpvtNlyl"
      },
      "outputs": [],
      "source": [
        "# for evaluation on validation data\n",
        "val_f1 = []\n",
        "val_accuracy = []\n",
        "\n",
        "# for evaluation on testing data\n",
        "test_f1 = []\n",
        "test_accuracy = []\n",
        "\n",
        "for m in ml_models:\n",
        "  m.fit(ml_X_train_vectorized, y_train)\n",
        "\n",
        "  # evaluation on validation data\n",
        "  ml_y_pred_val = m.predict(ml_X_val_vectorized)\n",
        "  f1_sc = f1_score(y_true = y_val, y_pred = ml_y_pred_val, average = 'macro')\n",
        "  val_f1.append(round(f1_sc, 2))\n",
        "  accuracy_sc = accuracy_score(y_true = y_val, y_pred = ml_y_pred_val)\n",
        "  val_accuracy.append(round(accuracy_sc, 2))\n",
        "\n",
        "  # evaluation on testing data\n",
        "  ml_y_pred_test = m.predict(ml_X_test_vectorized)\n",
        "  f1_sc = f1_score(y_true = y_test, y_pred = ml_y_pred_test, average = 'macro')\n",
        "  test_f1.append(round(f1_sc, 2))\n",
        "  accuracy_sc = accuracy_score(y_true = y_test, y_pred = ml_y_pred_test)\n",
        "  test_accuracy.append(round(accuracy_sc, 2))"
      ]
    },
    {
      "cell_type": "markdown",
      "metadata": {
        "id": "-LFM96zdokWU"
      },
      "source": [
        "### Evaluation on test data"
      ]
    },
    {
      "cell_type": "code",
      "execution_count": null,
      "metadata": {
        "colab": {
          "background_save": true
        },
        "id": "a6Jk1F5xfj-C"
      },
      "outputs": [],
      "source": [
        "model_names = ['LogisticRegression', 'KNN', 'SVM', 'DevisionTree', 'RandomForest', 'MultinomialNB']"
      ]
    },
    {
      "cell_type": "markdown",
      "source": [
        "#### F1 score"
      ],
      "metadata": {
        "id": "YQRTDJ_V1mED"
      }
    },
    {
      "cell_type": "code",
      "execution_count": null,
      "metadata": {
        "colab": {
          "background_save": true
        },
        "id": "CP72yswenbO8",
        "outputId": "fa15f7c6-2210-4189-a0be-b18b1820a34a"
      },
      "outputs": [
        {
          "data": {
            "text/plain": [
              "{'LogisticRegression': 0.81,\n",
              " 'KNN': 0.72,\n",
              " 'SVM': 0.81,\n",
              " 'DevisionTree': 0.81,\n",
              " 'RandomForest': 0.83,\n",
              " 'MultinomialNB': 0.44}"
            ]
          },
          "execution_count": 39,
          "metadata": {},
          "output_type": "execute_result"
        }
      ],
      "source": [
        "dict(zip(model_names, test_f1))"
      ]
    },
    {
      "cell_type": "code",
      "execution_count": null,
      "metadata": {
        "colab": {
          "background_save": true
        },
        "id": "fchgoWigl1PC",
        "outputId": "9a05f718-becf-46f8-cda7-fb2af6c252a0"
      },
      "outputs": [
        {
          "data": {
            "text/plain": [
              "<BarContainer object of 6 artists>"
            ]
          },
          "execution_count": 40,
          "metadata": {},
          "output_type": "execute_result"
        },
        {
          "data": {
            "image/png": "[encoded data removed]",
            "text/plain": [
              "<Figure size 900x300 with 1 Axes>"
            ]
          },
          "metadata": {},
          "output_type": "display_data"
        }
      ],
      "source": [
        "plt.figure(figsize = (9,3))\n",
        "plt.bar(model_names, test_f1)"
      ]
    },
    {
      "cell_type": "markdown",
      "source": [
        "#### Accuracy"
      ],
      "metadata": {
        "id": "Nw0fBuuT1tTE"
      }
    },
    {
      "cell_type": "code",
      "execution_count": null,
      "metadata": {
        "colab": {
          "background_save": true
        },
        "id": "55PGLohKoO59",
        "outputId": "5da1f28c-983e-4d15-a8c8-20cbcee8cbb9"
      },
      "outputs": [
        {
          "data": {
            "text/plain": [
              "{'LogisticRegression': 0.87,\n",
              " 'KNN': 0.78,\n",
              " 'SVM': 0.87,\n",
              " 'DevisionTree': 0.86,\n",
              " 'RandomForest': 0.89,\n",
              " 'MultinomialNB': 0.7}"
            ]
          },
          "execution_count": 41,
          "metadata": {},
          "output_type": "execute_result"
        }
      ],
      "source": [
        "dict(zip(model_names, test_accuracy))"
      ]
    },
    {
      "cell_type": "code",
      "execution_count": null,
      "metadata": {
        "colab": {
          "background_save": true
        },
        "id": "Svil-O2LmQ-g",
        "outputId": "58836868-dd67-489b-95e5-4b1fb6b729d0"
      },
      "outputs": [
        {
          "data": {
            "text/plain": [
              "<BarContainer object of 6 artists>"
            ]
          },
          "execution_count": 42,
          "metadata": {},
          "output_type": "execute_result"
        },
        {
          "data": {
            "image/png": "[encoded data removed]",
            "text/plain": [
              "<Figure size 900x300 with 1 Axes>"
            ]
          },
          "metadata": {},
          "output_type": "display_data"
        }
      ],
      "source": [
        "plt.figure(figsize = (9,3))\n",
        "plt.bar(model_names, test_accuracy)"
      ]
    },
    {
      "cell_type": "markdown",
      "metadata": {
        "id": "IqLLt3dS1WAc"
      },
      "source": [
        "These models seem to perform well on test data. Out of them, the Random Forest Classifier has highest accuracy of 89% and f1 score(macro) of 0.83."
      ]
    },
    {
      "cell_type": "markdown",
      "metadata": {
        "id": "e_j8KovPowTs"
      },
      "source": [
        "### Evaluation on validation data"
      ]
    },
    {
      "cell_type": "markdown",
      "source": [
        "#### F1 Score"
      ],
      "metadata": {
        "id": "8w2qc6hlxyAm"
      }
    },
    {
      "cell_type": "code",
      "execution_count": null,
      "metadata": {
        "colab": {
          "background_save": true
        },
        "id": "muknfo8poxbG",
        "outputId": "d2327b72-ca81-4aeb-e1fe-ce4cf7bd9083"
      },
      "outputs": [
        {
          "data": {
            "text/plain": [
              "{'LogisticRegression': 0.83,\n",
              " 'KNN': 0.75,\n",
              " 'SVM': 0.83,\n",
              " 'DevisionTree': 0.85,\n",
              " 'RandomForest': 0.87,\n",
              " 'MultinomialNB': 0.43}"
            ]
          },
          "execution_count": 43,
          "metadata": {},
          "output_type": "execute_result"
        }
      ],
      "source": [
        "dict(zip(model_names, val_f1))"
      ]
    },
    {
      "cell_type": "code",
      "execution_count": null,
      "metadata": {
        "colab": {
          "background_save": true
        },
        "id": "wMNytFyZ0-A6",
        "outputId": "7febbb7d-0168-4af5-f04f-1d9b51cfbba0"
      },
      "outputs": [
        {
          "data": {
            "text/plain": [
              "<BarContainer object of 6 artists>"
            ]
          },
          "execution_count": 44,
          "metadata": {},
          "output_type": "execute_result"
        },
        {
          "data": {
            "image/png": "[encoded data removed]",
            "text/plain": [
              "<Figure size 900x300 with 1 Axes>"
            ]
          },
          "metadata": {},
          "output_type": "display_data"
        }
      ],
      "source": [
        "plt.figure(figsize = (9,3))\n",
        "plt.bar(model_names, val_f1)"
      ]
    },
    {
      "cell_type": "markdown",
      "source": [
        "#### Accuracy"
      ],
      "metadata": {
        "id": "yhwUExrWx4cu"
      }
    },
    {
      "cell_type": "code",
      "execution_count": null,
      "metadata": {
        "colab": {
          "background_save": true
        },
        "id": "5Lwc4w1C06Az",
        "outputId": "df64a152-6147-4a8e-b9be-35e04723f62e"
      },
      "outputs": [
        {
          "data": {
            "text/plain": [
              "{'LogisticRegression': 0.87,\n",
              " 'KNN': 0.8,\n",
              " 'SVM': 0.87,\n",
              " 'DevisionTree': 0.88,\n",
              " 'RandomForest': 0.89,\n",
              " 'MultinomialNB': 0.68}"
            ]
          },
          "execution_count": 45,
          "metadata": {},
          "output_type": "execute_result"
        }
      ],
      "source": [
        "dict(zip(model_names, val_accuracy))"
      ]
    },
    {
      "cell_type": "code",
      "execution_count": null,
      "metadata": {
        "colab": {
          "background_save": true
        },
        "id": "2nozkpkE08hU",
        "outputId": "26950667-4afb-43fe-c8cf-85f7c92a5af8"
      },
      "outputs": [
        {
          "data": {
            "text/plain": [
              "<BarContainer object of 6 artists>"
            ]
          },
          "execution_count": 46,
          "metadata": {},
          "output_type": "execute_result"
        },
        {
          "data": {
            "image/png": "[encoded data removed]",
            "text/plain": [
              "<Figure size 900x300 with 1 Axes>"
            ]
          },
          "metadata": {},
          "output_type": "display_data"
        }
      ],
      "source": [
        "plt.figure(figsize = (9,3))\n",
        "plt.bar(model_names, val_accuracy)"
      ]
    },
    {
      "cell_type": "markdown",
      "metadata": {
        "id": "JAE8hdLL1mOS"
      },
      "source": [
        "Also on validation data these models seems to be performing very well. This means that these models can generalize well on new data. Out of these models Random Forest has highest f1 score(macro) of 0.87 and accuracy of 89%."
      ]
    },
    {
      "cell_type": "markdown",
      "metadata": {
        "id": "1tjkvNDiBOCn"
      },
      "source": [
        "# Deep Neural Network models"
      ]
    },
    {
      "cell_type": "markdown",
      "metadata": {
        "id": "cxE0giQHVz3-"
      },
      "source": [
        "## Text vectorization"
      ]
    },
    {
      "cell_type": "code",
      "execution_count": null,
      "metadata": {
        "colab": {
          "background_save": true
        },
        "id": "v7XWFcjNMcKq"
      },
      "outputs": [],
      "source": [
        "X_train = df_train['Text']\n",
        "X_test = df_test['Text']\n",
        "X_val = df_val['Text']"
      ]
    },
    {
      "cell_type": "code",
      "execution_count": null,
      "metadata": {
        "colab": {
          "background_save": true
        },
        "id": "25G9m-G_Navu"
      },
      "outputs": [],
      "source": [
        "vocab_size = 10000\n",
        "output_sequence_length = 100\n",
        "vectorizer = tf.keras.layers.TextVectorization(max_tokens = vocab_size,\n",
        "                                 output_sequence_length = output_sequence_length)"
      ]
    },
    {
      "cell_type": "code",
      "execution_count": null,
      "metadata": {
        "id": "u0igE4uxN-1y"
      },
      "outputs": [],
      "source": [
        "vectorizer.adapt(X_train)\n",
        "X_train_vectorized = vectorizer(X_train)\n",
        "X_test_vectorized = vectorizer(X_test)\n",
        "X_val_vectorized = vectorizer(X_val)"
      ]
    },
    {
      "cell_type": "markdown",
      "metadata": {
        "id": "5zh7P8U0UYV2"
      },
      "source": [
        "## Simple RNN model"
      ]
    },
    {
      "cell_type": "code",
      "execution_count": null,
      "metadata": {
        "id": "qZFDWsg4TBw2"
      },
      "outputs": [],
      "source": [
        "rnn_model = tf.keras.models.Sequential()\n",
        "rnn_model.add(tf.keras.layers.Embedding(vocab_size, 32, input_length = output_sequence_length))\n",
        "rnn_model.add(tf.keras.layers.SimpleRNN(16))\n",
        "rnn_model.add(tf.keras.layers.Dense(128, activation = 'relu'))\n",
        "rnn_model.add(tf.keras.layers.Dense(6, activation = 'softmax'))\n",
        "rnn_model.compile(optimizer = 'adam', loss = 'sparse_categorical_crossentropy', metrics = 'accuracy')"
      ]
    },
    {
      "cell_type": "code",
      "execution_count": null,
      "metadata": {
        "colab": {
          "base_uri": "https://localhost:8080/"
        },
        "id": "7vGzJQ2AWju-",
        "outputId": "295faf73-8120-4eb3-e817-85c5c926cb43"
      },
      "outputs": [
        {
          "name": "stdout",
          "output_type": "stream",
          "text": [
            "Epoch 1/10\n",
            "500/500 [==============================] - 21s 39ms/step - loss: 1.5840 - accuracy: 0.3279 - val_loss: 1.5865 - val_accuracy: 0.3522\n",
            "Epoch 2/10\n",
            "500/500 [==============================] - 17s 35ms/step - loss: 1.5786 - accuracy: 0.3255 - val_loss: 1.5858 - val_accuracy: 0.3522\n",
            "Epoch 3/10\n",
            "500/500 [==============================] - 18s 35ms/step - loss: 1.5776 - accuracy: 0.3326 - val_loss: 1.5847 - val_accuracy: 0.3522\n",
            "Epoch 4/10\n",
            "500/500 [==============================] - 21s 42ms/step - loss: 1.5771 - accuracy: 0.3300 - val_loss: 1.5823 - val_accuracy: 0.3522\n",
            "Epoch 5/10\n",
            "500/500 [==============================] - 17s 34ms/step - loss: 1.5754 - accuracy: 0.3370 - val_loss: 1.5823 - val_accuracy: 0.3367\n",
            "Epoch 6/10\n",
            "500/500 [==============================] - 18s 36ms/step - loss: 1.5626 - accuracy: 0.3666 - val_loss: 1.5901 - val_accuracy: 0.3502\n",
            "Epoch 7/10\n",
            "500/500 [==============================] - 19s 37ms/step - loss: 1.5261 - accuracy: 0.4011 - val_loss: 1.6297 - val_accuracy: 0.3177\n",
            "Epoch 8/10\n",
            "500/500 [==============================] - 17s 34ms/step - loss: 1.4674 - accuracy: 0.4457 - val_loss: 1.6512 - val_accuracy: 0.3432\n",
            "Epoch 9/10\n",
            "500/500 [==============================] - 21s 42ms/step - loss: 1.4124 - accuracy: 0.4725 - val_loss: 1.6889 - val_accuracy: 0.3477\n",
            "Epoch 10/10\n",
            "500/500 [==============================] - 17s 33ms/step - loss: 1.3497 - accuracy: 0.4985 - val_loss: 1.7331 - val_accuracy: 0.3432\n"
          ]
        }
      ],
      "source": [
        "history1 = rnn_model.fit(X_train_vectorized, y_train,\n",
        "                        validation_data = (X_val_vectorized, y_val),\n",
        "                        epochs = 10)"
      ]
    },
    {
      "cell_type": "markdown",
      "metadata": {
        "id": "uFW2lkgb7SRf"
      },
      "source": [
        "Using Simple RNN, the model is underfit and unable to learn from the data"
      ]
    },
    {
      "cell_type": "markdown",
      "metadata": {
        "id": "lxhElTbrzNVA"
      },
      "source": [
        "## LSTM model"
      ]
    },
    {
      "cell_type": "code",
      "execution_count": null,
      "metadata": {
        "id": "R6V6OSUAW3-J"
      },
      "outputs": [],
      "source": [
        "lstm_model = tf.keras.models.Sequential()\n",
        "lstm_model.add(tf.keras.layers.Embedding(vocab_size, 32, input_length = output_sequence_length))\n",
        "lstm_model.add(tf.keras.layers.LSTM(16))\n",
        "lstm_model.add(tf.keras.layers.Dense(128, activation = 'relu'))\n",
        "lstm_model.add(tf.keras.layers.Dense(6, activation = 'softmax'))\n",
        "lstm_model.compile(optimizer = 'adam', loss = 'sparse_categorical_crossentropy', metrics = 'accuracy')"
      ]
    },
    {
      "cell_type": "code",
      "execution_count": null,
      "metadata": {
        "colab": {
          "base_uri": "https://localhost:8080/"
        },
        "id": "t2BGjDsbYTCb",
        "outputId": "e6ab8a3b-0d56-4406-9548-01fc1170a73b"
      },
      "outputs": [
        {
          "name": "stdout",
          "output_type": "stream",
          "text": [
            "Epoch 1/10\n",
            "500/500 [==============================] - 34s 60ms/step - loss: 1.5865 - accuracy: 0.3321 - val_loss: 1.5882 - val_accuracy: 0.2746\n",
            "Epoch 2/10\n",
            "500/500 [==============================] - 30s 61ms/step - loss: 1.5773 - accuracy: 0.3335 - val_loss: 1.5808 - val_accuracy: 0.3522\n",
            "Epoch 3/10\n",
            "500/500 [==============================] - 31s 62ms/step - loss: 1.5774 - accuracy: 0.3341 - val_loss: 1.5846 - val_accuracy: 0.3522\n",
            "Epoch 4/10\n",
            "500/500 [==============================] - 32s 64ms/step - loss: 1.5770 - accuracy: 0.3345 - val_loss: 1.5846 - val_accuracy: 0.3522\n",
            "Epoch 5/10\n",
            "500/500 [==============================] - 29s 58ms/step - loss: 1.5765 - accuracy: 0.3331 - val_loss: 1.5854 - val_accuracy: 0.3522\n",
            "Epoch 6/10\n",
            "500/500 [==============================] - 30s 60ms/step - loss: 1.5765 - accuracy: 0.3342 - val_loss: 1.5843 - val_accuracy: 0.3522\n",
            "Epoch 7/10\n",
            "500/500 [==============================] - 30s 60ms/step - loss: 1.5770 - accuracy: 0.3335 - val_loss: 1.5822 - val_accuracy: 0.3522\n",
            "Epoch 8/10\n",
            "500/500 [==============================] - 30s 60ms/step - loss: 1.5763 - accuracy: 0.3351 - val_loss: 1.5809 - val_accuracy: 0.3522\n",
            "Epoch 9/10\n",
            "500/500 [==============================] - 29s 58ms/step - loss: 1.5766 - accuracy: 0.3343 - val_loss: 1.5823 - val_accuracy: 0.3522\n",
            "Epoch 10/10\n",
            "500/500 [==============================] - 30s 60ms/step - loss: 1.5766 - accuracy: 0.3351 - val_loss: 1.5815 - val_accuracy: 0.3522\n"
          ]
        }
      ],
      "source": [
        "history2 = lstm_model.fit(X_train_vectorized, y_train,\n",
        "                        validation_data = (X_val_vectorized, y_val),\n",
        "                        epochs = 10)"
      ]
    },
    {
      "cell_type": "markdown",
      "metadata": {
        "id": "yKzh7tqF7YLG"
      },
      "source": [
        "LSTM model is underfit too and is unable to learn any underlying pattern from the data."
      ]
    },
    {
      "cell_type": "markdown",
      "metadata": {
        "id": "UktaWEiz2FP4"
      },
      "source": [
        "## Bidirectional LSTM model"
      ]
    },
    {
      "cell_type": "code",
      "execution_count": null,
      "metadata": {
        "id": "YpFs_-ZfjeTU"
      },
      "outputs": [],
      "source": [
        "bi_lstm_model = tf.keras.models.Sequential()\n",
        "bi_lstm_model.add(tf.keras.layers.Embedding(vocab_size, 32, input_length = output_sequence_length))\n",
        "bi_lstm_model.add(tf.keras.layers.Bidirectional(tf.keras.layers.LSTM(16)))\n",
        "bi_lstm_model.add(tf.keras.layers.Dense(128, activation = 'relu'))\n",
        "bi_lstm_model.add(tf.keras.layers.Dropout(0.5))\n",
        "bi_lstm_model.add(tf.keras.layers.Dense(6, activation = 'softmax'))\n",
        "bi_lstm_model.compile(optimizer = 'adam', loss = 'sparse_categorical_crossentropy', metrics = 'accuracy')"
      ]
    },
    {
      "cell_type": "code",
      "execution_count": null,
      "metadata": {
        "colab": {
          "base_uri": "https://localhost:8080/"
        },
        "id": "plus69aIblBC",
        "outputId": "850774fe-8ce3-41cf-a298-f4a590d513ae"
      },
      "outputs": [
        {
          "name": "stdout",
          "output_type": "stream",
          "text": [
            "Epoch 1/10\n",
            "500/500 [==============================] - 58s 102ms/step - loss: 1.3549 - accuracy: 0.4461 - val_loss: 0.8466 - val_accuracy: 0.6888\n",
            "Epoch 2/10\n",
            "500/500 [==============================] - 47s 94ms/step - loss: 0.6152 - accuracy: 0.7633 - val_loss: 0.5915 - val_accuracy: 0.8039\n",
            "Epoch 3/10\n",
            "500/500 [==============================] - 52s 104ms/step - loss: 0.3408 - accuracy: 0.8805 - val_loss: 0.4638 - val_accuracy: 0.8484\n",
            "Epoch 4/10\n",
            "500/500 [==============================] - 46s 93ms/step - loss: 0.2172 - accuracy: 0.9281 - val_loss: 0.5061 - val_accuracy: 0.8549\n",
            "Epoch 5/10\n",
            "500/500 [==============================] - 47s 94ms/step - loss: 0.1584 - accuracy: 0.9497 - val_loss: 0.5125 - val_accuracy: 0.8729\n",
            "Epoch 6/10\n",
            "500/500 [==============================] - 49s 97ms/step - loss: 0.1223 - accuracy: 0.9605 - val_loss: 0.5557 - val_accuracy: 0.8694\n",
            "Epoch 7/10\n",
            "500/500 [==============================] - 48s 96ms/step - loss: 0.0998 - accuracy: 0.9683 - val_loss: 0.5685 - val_accuracy: 0.8689\n",
            "Epoch 8/10\n",
            "500/500 [==============================] - 48s 95ms/step - loss: 0.0837 - accuracy: 0.9722 - val_loss: 0.5625 - val_accuracy: 0.8764\n",
            "Epoch 9/10\n",
            "500/500 [==============================] - 48s 95ms/step - loss: 0.0667 - accuracy: 0.9771 - val_loss: 0.5417 - val_accuracy: 0.8714\n",
            "Epoch 10/10\n",
            "500/500 [==============================] - 46s 92ms/step - loss: 0.0687 - accuracy: 0.9799 - val_loss: 0.5739 - val_accuracy: 0.8794\n"
          ]
        }
      ],
      "source": [
        "history3 = bi_lstm_model.fit(X_train_vectorized, y_train,\n",
        "                        validation_data = (X_val_vectorized, y_val),\n",
        "                        epochs = 10)"
      ]
    },
    {
      "cell_type": "markdown",
      "metadata": {
        "id": "I6BGANZB7exe"
      },
      "source": [
        "It seems Bidirectional LSTM model is able to learn from the training set very well, but wasn't able to generalize well on validation data as acccurately. However, it still got accuracy of 87.94% on unseen data which means the performance of model is good."
      ]
    },
    {
      "cell_type": "code",
      "execution_count": null,
      "metadata": {
        "colab": {
          "base_uri": "https://localhost:8080/",
          "height": 469
        },
        "id": "HPAc4PcF1kVq",
        "outputId": "61ad6d3b-3e07-4fc9-c93c-61a8d5ee2985"
      },
      "outputs": [
        {
          "data": {
            "text/plain": [
              "[]"
            ]
          },
          "execution_count": 92,
          "metadata": {},
          "output_type": "execute_result"
        },
        {
          "data": {
            "image/png": "[encoded data removed]",
            "text/plain": [
              "<Figure size 640x480 with 1 Axes>"
            ]
          },
          "metadata": {},
          "output_type": "display_data"
        }
      ],
      "source": [
        "plt.title('Accuracy')\n",
        "plt.plot(history3.history['accuracy'], label = 'Training Accuracy')\n",
        "plt.plot(history3.history['val_accuracy'], label = 'Validation Accuracy')\n",
        "plt.legend()\n",
        "plt.plot()"
      ]
    },
    {
      "cell_type": "code",
      "execution_count": null,
      "metadata": {
        "colab": {
          "base_uri": "https://localhost:8080/",
          "height": 469
        },
        "id": "SjIi4GkceRrc",
        "outputId": "ae48be91-c5e0-4d59-a851-772b9418c57c"
      },
      "outputs": [
        {
          "data": {
            "text/plain": [
              "[]"
            ]
          },
          "execution_count": 93,
          "metadata": {},
          "output_type": "execute_result"
        },
        {
          "data": {
            "image/png": "[encoded data removed]",
            "text/plain": [
              "<Figure size 640x480 with 1 Axes>"
            ]
          },
          "metadata": {},
          "output_type": "display_data"
        }
      ],
      "source": [
        "plt.title('Loss')\n",
        "plt.plot(history3.history['loss'], label = 'Training Loss')\n",
        "plt.plot(history3.history['val_loss'], label = 'Validation Loss')\n",
        "plt.legend()\n",
        "plt.plot()"
      ]
    },
    {
      "cell_type": "markdown",
      "source": [
        "# Conclusion"
      ],
      "metadata": {
        "id": "R-3g7e0D8ytH"
      }
    },
    {
      "cell_type": "markdown",
      "source": [
        "In this project, I trained various Deep Learning and Classical Machine Learning models on emotion database. Both approaches were able to create models with good amount of accuracy.\n",
        "From classical ML models, the Random Forest model performed best and on Deep Learning Models the Bidirectinal LSTM model performed the best."
      ],
      "metadata": {
        "id": "tZ-3tLeZ80eu"
      }
    }
  ],
  "metadata": {
    "colab": {
      "toc_visible": true,
      "provenance": [],
      "authorship_tag": "ABX9TyO472Tl7i0KSo4s+XOBK48x",
      "include_colab_link": true
    },
    "kernelspec": {
      "display_name": "Python 3",
      "name": "python3"
    },
    "language_info": {
      "name": "python"
    }
  },
  "nbformat": 4,
  "nbformat_minor": 0
}